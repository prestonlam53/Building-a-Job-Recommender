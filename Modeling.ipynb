{
 "cells": [
  {
   "cell_type": "markdown",
   "metadata": {},
   "source": [
    "### Creating Model to Predict Classes\n",
    "\n",
    "1. We have 20 different topics created by NMF\n",
    "2. We have the weights of each topic per each document\n",
    "3. We have labels for job type for each document\n",
    "4. Create model to try and predict job type based on topics\n",
    "\n",
    "Do we need more data? Can we include even more job types? Should I throw in resumes along with these job descriptions?\n",
    "\n",
    "How do we assign a sample resume to a topic?"
   ]
  },
  {
   "cell_type": "code",
   "execution_count": 16,
   "metadata": {},
   "outputs": [],
   "source": [
    "import pandas as pd\n",
    "import numpy as np\n",
    "df = pd.read_csv('topic_df.csv')"
   ]
  },
  {
   "cell_type": "code",
   "execution_count": 17,
   "metadata": {},
   "outputs": [],
   "source": [
    "X,y = df.iloc[:,1:-1], df.iloc[:, -1]"
   ]
  },
  {
   "cell_type": "code",
   "execution_count": 18,
   "metadata": {},
   "outputs": [],
   "source": [
    "from sklearn.model_selection import train_test_split\n",
    "X_tr, X_te, y_tr, y_te = train_test_split(X,y)"
   ]
  },
  {
   "cell_type": "code",
   "execution_count": 19,
   "metadata": {
    "scrolled": true
   },
   "outputs": [],
   "source": [
    "from sklearn.ensemble import RandomForestClassifier\n",
    "from sklearn.model_selection import cross_val_score"
   ]
  },
  {
   "cell_type": "code",
   "execution_count": 20,
   "metadata": {},
   "outputs": [
    {
     "name": "stdout",
     "output_type": "stream",
     "text": [
      "{'max_depth': 7, 'n_estimators': 400}\n",
      "CPU times: user 1min 45s, sys: 1.73 s, total: 1min 46s\n",
      "Wall time: 2min 6s\n"
     ]
    }
   ],
   "source": [
    "%%time\n",
    "from sklearn.model_selection import GridSearchCV\n",
    "\n",
    "param_grid = {'n_estimators': [100,200,300, 400, 500, 600], 'max_depth': [3,5,7,9, 11]}\n",
    "search = GridSearchCV(RandomForestClassifier(), param_grid, cv=5)\n",
    "search.fit(X_tr, y_tr)\n",
    "bp = search.best_params_\n",
    "print(bp)"
   ]
  },
  {
   "cell_type": "code",
   "execution_count": 21,
   "metadata": {},
   "outputs": [
    {
     "name": "stdout",
     "output_type": "stream",
     "text": [
      "acc:  0.8263157894736842\n",
      "['data,analyst' 'project,manager' 'data,analyst' 'ux,designer'\n",
      " 'data,analyst' 'account,manager' 'project,manager' 'ux,designer'\n",
      " 'account,manager' 'project,manager' 'ux,designer' 'marketing' 'marketing'\n",
      " 'marketing' 'marketing' 'data,analyst' 'ux,designer' 'ux,designer'\n",
      " 'data,analyst' 'account,manager' 'product,manager' 'account,manager'\n",
      " 'product,manager' 'account,manager' 'project,manager' 'data,analyst'\n",
      " 'account,manager' 'project,manager' 'ux,designer' 'account,manager'\n",
      " 'project,manager' 'product,manager' 'data,analyst']\n"
     ]
    }
   ],
   "source": [
    "rfc = RandomForestClassifier(n_estimators = bp['n_estimators'], max_depth = bp['max_depth'])\n",
    "rfc.fit(X_tr, y_tr)\n",
    "print('acc: ', np.mean(cross_val_score(rfc, X_tr, y_tr, scoring = 'accuracy', cv=5)))\n",
    "print(rfc.predict(X_te))\n"
   ]
  },
  {
   "cell_type": "code",
   "execution_count": 22,
   "metadata": {},
   "outputs": [
    {
     "data": {
      "text/plain": [
       "<matplotlib.axes._subplots.AxesSubplot at 0x7fb444f9f2e0>"
      ]
     },
     "execution_count": 22,
     "metadata": {},
     "output_type": "execute_result"
    },
    {
     "data": {
      "image/png": "[encoded data removed]",
      "text/plain": [
       "<Figure size 432x288 with 2 Axes>"
      ]
     },
     "metadata": {
      "needs_background": "light"
     },
     "output_type": "display_data"
    }
   ],
   "source": [
    "import seaborn as sns\n",
    "import matplotlib.pyplot as plt\n",
    "sns.heatmap(X_tr.corr())"
   ]
  },
  {
   "cell_type": "raw",
   "metadata": {},
   "source": []
  }
 ],
 "metadata": {
  "kernelspec": {
   "display_name": "Python [conda env:metis] *",
   "language": "python",
   "name": "conda-env-metis-py"
  },
  "language_info": {
   "codemirror_mode": {
    "name": "ipython",
    "version": 3
   },
   "file_extension": ".py",
   "mimetype": "text/x-python",
   "name": "python",
   "nbconvert_exporter": "python",
   "pygments_lexer": "ipython3",
   "version": "3.8.3"
  }
 },
 "nbformat": 4,
 "nbformat_minor": 4
}
