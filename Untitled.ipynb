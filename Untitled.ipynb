{
 "cells": [
  {
   "cell_type": "code",
   "execution_count": 3,
   "metadata": {},
   "outputs": [],
   "source": [
    "import pandas as pd\n",
    "from sklearn.feature_extraction.text import CountVectorizer, TfidfVectorizer\n",
    "from nltk.tokenize import TreebankWordTokenizer\n",
    "from nltk.stem import PorterStemmer\n",
    "from sklearn.decomposition import TruncatedSVD, NMF\n",
    "from sklearn.metrics.pairwise import cosine_similarity\n",
    "import re\n",
    "import numpy as np\n",
    "from sklearn.ensemble import RandomForestClassifier\n",
    "from sklearn.model_selection import cross_val_score, train_test_split, GridSearchCV\n",
    "from sklearn.metrics import accuracy_score\n",
    "import pickle"
   ]
  },
  {
   "cell_type": "code",
   "execution_count": 6,
   "metadata": {},
   "outputs": [],
   "source": [
    "def tokenize_stem(series):\n",
    "\n",
    "    tokenizer =TreebankWordTokenizer()\n",
    "    stemmer = PorterStemmer()\n",
    "    series = series.apply(lambda x: x.replace(\"\\n\", ' '))\n",
    "    series = series.apply(lambda x: tokenizer.tokenize(x))\n",
    "    print(series)\n",
    "    series = series.apply(lambda x: [stemmer.stem(w) for w in x])\n",
    "    series = series.apply(lambda x: ' '.join(x))\n",
    "    return series\n",
    "\n"
   ]
  },
  {
   "cell_type": "code",
   "execution_count": 7,
   "metadata": {},
   "outputs": [
    {
     "name": "stdout",
     "output_type": "stream",
     "text": [
      "0    [hi, im, preston, and, this, is, a, paragraph,...\n",
      "dtype: object\n"
     ]
    },
    {
     "data": {
      "text/plain": [
       "0    hi im preston and thi is a paragraph that i m ...\n",
       "dtype: object"
      ]
     },
     "execution_count": 7,
     "metadata": {},
     "output_type": "execute_result"
    }
   ],
   "source": [
    "user_input = str(\"hi im preston and this is a paragraph that i'm writing\")\n",
    "user_input = re.sub('[^a-zA-Z0-9\\.]', ' ', user_input)\n",
    "user_input = user_input.lower()\n",
    "user_input = pd.Series(user_input)\n",
    "\n",
    "tokenize_stem(user_input)\n"
   ]
  },
  {
   "cell_type": "code",
   "execution_count": null,
   "metadata": {},
   "outputs": [],
   "source": []
  },
  {
   "cell_type": "code",
   "execution_count": null,
   "metadata": {},
   "outputs": [],
   "source": []
  }
 ],
 "metadata": {
  "kernelspec": {
   "display_name": "Python [conda env:metis] *",
   "language": "python",
   "name": "conda-env-metis-py"
  },
  "language_info": {
   "codemirror_mode": {
    "name": "ipython",
    "version": 3
   },
   "file_extension": ".py",
   "mimetype": "text/x-python",
   "name": "python",
   "nbconvert_exporter": "python",
   "pygments_lexer": "ipython3",
   "version": "3.8.3"
  }
 },
 "nbformat": 4,
 "nbformat_minor": 4
}
